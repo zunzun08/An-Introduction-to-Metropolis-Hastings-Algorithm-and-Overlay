{
 "cells": [
  {
   "cell_type": "code",
   "execution_count": 2,
   "metadata": {},
   "outputs": [],
   "source": [
    "import numpy as np\n",
    "import matplotlib.pyplot as plt\n",
    "\n",
    "from sklearn.datasets import fetch_openml\n",
    "from sklearn.decomposition import PCA\n"
   ]
  },
  {
   "cell_type": "code",
   "execution_count": 3,
   "metadata": {},
   "outputs": [
    {
     "name": "stderr",
     "output_type": "stream",
     "text": [
      "/Users/cristianzuniga/Library/Python/3.10/lib/python/site-packages/sklearn/datasets/_openml.py:968: FutureWarning: The default value of `parser` will change from `'liac-arff'` to `'auto'` in 1.4. You can set `parser='auto'` to silence this warning. Therefore, an `ImportError` will be raised from 1.4 if the dataset is dense and pandas is not installed. Note that the pandas parser may return different data types. See the Notes Section in fetch_openml's API doc for details.\n",
      "  warn(\n"
     ]
    }
   ],
   "source": [
    "\n",
    "mnist = fetch_openml('mnist_784', version=1, as_frame=False)\n",
    "X_rows, y = mnist.data, mnist.target.astype(int)\n",
    "\n",
    "# Transpose X so each column is a data point (784 x 70000)\n",
    "X = X_rows.T \n",
    "\n",
    "digits = list(range(10))\n",
    "digit_matrices = {}\n",
    "\n",
    "# Creating list of means for all digits\n",
    "digit_means = []\n",
    "for j in digits:\n",
    "    # Select columns corresponding to digit j\n",
    "    digit_matrices[f'X_{j}'] = X[:, y == j]\n",
    "    # Calculate mean across columns (axis=1)\n",
    "    digit_means.append(np.mean(digit_matrices[f'X_{j}'], axis=1))\n",
    "\n",
    "digit_means = np.array(digit_means).T  \n",
    "# Add overall mean as another column\n",
    "overall_mean = np.mean(X, axis=1).reshape(-1, 1) \n",
    "\n",
    "\n",
    "mu_mat = np.hstack([digit_means, overall_mean]) "
   ]
  },
  {
   "cell_type": "code",
   "execution_count": 4,
   "metadata": {},
   "outputs": [
    {
     "data": {
      "text/plain": [
       "(784, 11)"
      ]
     },
     "execution_count": 4,
     "metadata": {},
     "output_type": "execute_result"
    }
   ],
   "source": [
    "#CHecking shape to make sure its correct:\n",
    "mu_mat.shape"
   ]
  },
  {
   "cell_type": "code",
   "execution_count": 8,
   "metadata": {},
   "outputs": [
    {
     "name": "stdout",
     "output_type": "stream",
     "text": [
      "Difference between mean digit 0 and MNIST mean: 0.0\n",
      "Difference between mean digit 1 and MNIST mean: 0.0\n",
      "Difference between mean digit 2 and MNIST mean: 0.0\n",
      "Difference between mean digit 3 and MNIST mean: 0.0\n",
      "Difference between mean digit 4 and MNIST mean: 0.0\n",
      "Difference between mean digit 5 and MNIST mean: 0.0\n",
      "Difference between mean digit 6 and MNIST mean: 0.0\n",
      "Difference between mean digit 7 and MNIST mean: 0.0\n",
      "Difference between mean digit 8 and MNIST mean: 0.0\n",
      "Difference between mean digit 9 and MNIST mean: 0.0\n",
      "\n",
      "Average mean difference between mu_j and mu: 0.0\n",
      "Standard deviation of mean differences between mu_j and mu: 0.0\n"
     ]
    }
   ],
   "source": [
    "average_differences = []\n",
    "for i in range(10):\n",
    "    avg_dif = np.mean(mu_mat[i] - mu_mat[-1])\n",
    "    average_differences.append(avg_dif)\n",
    "    print(f\"Difference between mean digit {i} and MNIST mean: {avg_dif}\")\n",
    "    \n",
    "    \n",
    "print()\n",
    "print(f\"Average mean difference between mu_j and mu: {np.mean(average_differences)}\")\n",
    "print(f\"Standard deviation of mean differences between mu_j and mu: {np.std(average_differences)}\")"
   ]
  },
  {
   "cell_type": "code",
   "execution_count": 10,
   "metadata": {},
   "outputs": [],
   "source": [
    "#Performing PCA on the union of the means\n",
    "mu_mat_centered = mu_mat - np.mean(X)\n",
    "pca_mu = PCA(n_components=10).fit(mu_mat_centered)\n",
    "\n",
    "\n",
    "#PCA on X\n",
    "X_centered = X - np.mean(X)\n",
    "pca_X = PCA(n_components=10).fit(X_centered)\n"
   ]
  },
  {
   "cell_type": "code",
   "execution_count": 11,
   "metadata": {},
   "outputs": [],
   "source": [
    "def random_vectors(V, samples):\n",
    "    coeffs = np.random.rand(V.shape[1], samples)\n",
    "    coeffs /= np.linalg.norm(coeffs, axis=0)\n",
    "    \n",
    "    return V @ coeffs\n",
    "\n",
    "def orthogonal_projection_length(V, V_P, samples):\n",
    "    projections = []\n",
    "    i = 0\n",
    "    while i < samples:\n",
    "        projections.append(np.linalg.norm(V @ random_vectors(V_P, 1)))\n",
    "        i += 1\n",
    "    return projections"
   ]
  },
  {
   "cell_type": "code",
   "execution_count": 12,
   "metadata": {},
   "outputs": [
    {
     "name": "stdout",
     "output_type": "stream",
     "text": [
      "Mean projection length: 0.9876 ± 0.0141\n"
     ]
    }
   ],
   "source": [
    "\n",
    "#Getting the principal component matrices\n",
    "subspace_pca_mu = pca_mu.components_\n",
    "subspace_pca_X = pca_X.components_\n",
    "\n",
    "#Building the projectiion matrix i.e QQ^T\n",
    "proj_mat = subspace_pca_X @ subspace_pca_X.T\n",
    "\n",
    "#Getting 1000 random vectors\n",
    "projection_lengths = orthogonal_projection_length(proj_mat, subspace_pca_mu, 1000)\n",
    "\n",
    "print(f\"Mean projection length: {np.mean(projection_lengths):.4f} ± {np.std(projection_lengths):.4f}\")"
   ]
  },
  {
   "cell_type": "code",
   "execution_count": null,
   "metadata": {},
   "outputs": [
    {
     "name": "stdout",
     "output_type": "stream",
     "text": [
      "The Distance between the two subspaces is 0.0000000000\n"
     ]
    }
   ],
   "source": [
    "#Solving the Orthogonal Prosecutes Problem\n",
    "\n",
    "R = subspace_pca_mu.T @ subspace_pca_X\n",
    "\n",
    "U, S, V_T = np.linalg.svd(R, full_matrices=False)\n",
    "\n",
    "Q = U @ V_T\n",
    "\n",
    "distance = np.linalg.norm((subspace_pca_X - subspace_pca_mu @ Q), ord='fro')\n",
    "print(f\"The distance between the two subspaces is: {distance:.10f}\")"
   ]
  }
 ],
 "metadata": {
  "kernelspec": {
   "display_name": "Python 3",
   "language": "python",
   "name": "python3"
  },
  "language_info": {
   "codemirror_mode": {
    "name": "ipython",
    "version": 3
   },
   "file_extension": ".py",
   "mimetype": "text/x-python",
   "name": "python",
   "nbconvert_exporter": "python",
   "pygments_lexer": "ipython3",
   "version": "3.10.14"
  }
 },
 "nbformat": 4,
 "nbformat_minor": 2
}
